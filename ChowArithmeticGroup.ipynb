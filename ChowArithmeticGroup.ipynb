{
 "cells": [
  {
   "cell_type": "code",
   "execution_count": 1,
   "id": "99b3fe90",
   "metadata": {},
   "outputs": [
    {
     "name": "stdout",
     "output_type": "stream",
     "text": [
      "Intersection point: (1.0, 1.0)\n",
      "Second intersection point: (-2.0, -2.0)\n",
      "Chow Group Elements: [(1.0, 1.0), (-2.0, -2.0)]\n",
      "Closure Test: True\n",
      "Associativity Test: True\n",
      "Identity Test: True\n",
      "Inverse Test: False\n"
     ]
    }
   ],
   "source": [
    "import numpy as np\n",
    "\n",
    "# Step 1: Define a class for a Curve (for simplicity, let's model them as lines in a plane)\n",
    "class Curve:\n",
    "    def __init__(self, slope, intercept):\n",
    "        self.slope = slope  # slope of the line\n",
    "        self.intercept = intercept  # y-intercept\n",
    "    \n",
    "    # Method to find intersection with another curve (line)\n",
    "    def intersection(self, other):\n",
    "        if self.slope == other.slope:\n",
    "            # Parallel lines, no intersection\n",
    "            return None\n",
    "        else:\n",
    "            # Calculate intersection point (x, y)\n",
    "            x = (other.intercept - self.intercept) / (self.slope - other.slope)\n",
    "            y = self.slope * x + self.intercept\n",
    "            return (x, y)\n",
    "\n",
    "# Step 2: Define the Chow Group structure\n",
    "class ChowGroup:\n",
    "    def __init__(self):\n",
    "        self.elements = []  # Elements of the group (intersection points)\n",
    "    \n",
    "    def add_intersection(self, intersection):\n",
    "        if intersection:\n",
    "            self.elements.append(intersection)\n",
    "    \n",
    "    def __add__(self, other):\n",
    "        \"\"\"Addition operation in Chow group: Union of intersections.\"\"\"\n",
    "        combined_group = ChowGroup()\n",
    "        combined_group.elements = self.elements + other.elements\n",
    "        return combined_group\n",
    "    \n",
    "    def __str__(self):\n",
    "        return f\"Chow Group Elements: {self.elements}\"\n",
    "\n",
    "# Proof functions for Group Properties\n",
    "def is_closure(chow_group1, chow_group2):\n",
    "    \"\"\"Proves closure: Adding two groups results in another valid group.\"\"\"\n",
    "    combined_group = chow_group1 + chow_group2\n",
    "    # Check that the result is a valid ChowGroup (i.e., a set of intersection points)\n",
    "    return isinstance(combined_group, ChowGroup) and len(combined_group.elements) >= 0\n",
    "\n",
    "def is_associative(chow_group1, chow_group2, chow_group3):\n",
    "    \"\"\"Proves associativity: (G1 + G2) + G3 == G1 + (G2 + G3).\"\"\"\n",
    "    return (chow_group1 + chow_group2 + chow_group3).elements == (chow_group1 + (chow_group2 + chow_group3)).elements\n",
    "\n",
    "def identity_element():\n",
    "    \"\"\"Defines the identity element (null intersection).\"\"\"\n",
    "    return ChowGroup()  # Empty Chow group as identity\n",
    "\n",
    "def is_identity(chow_group):\n",
    "    \"\"\"Proves identity: G + e == G.\"\"\"\n",
    "    return (chow_group + identity_element()).elements == chow_group.elements\n",
    "\n",
    "def is_inverse(chow_group):\n",
    "    \"\"\"Proves inverse: For each element x, there exists an element -x such that x + (-x) = e.\"\"\"\n",
    "    # We'll treat adding the same point twice as giving the identity (inverses in this simplified model)\n",
    "    inverse_group = ChowGroup()\n",
    "    for intersection in chow_group.elements:\n",
    "        inverse_group.add_intersection(intersection)  # Adding the same element back\n",
    "    \n",
    "    return (chow_group + inverse_group).elements == []\n",
    "\n",
    "# Step 3: Simulate intersection and prove group properties\n",
    "if __name__ == \"__main__\":\n",
    "    # Define two curves\n",
    "    curve1 = Curve(slope=1, intercept=0)  # y = x\n",
    "    curve2 = Curve(slope=-1, intercept=2)  # y = -x + 2\n",
    "    \n",
    "    # Find intersection\n",
    "    intersection_point = curve1.intersection(curve2)\n",
    "    \n",
    "    # Show the intersection point\n",
    "    print(f\"Intersection point: {intersection_point}\")\n",
    "    \n",
    "    # Create a Chow group and add the intersection point\n",
    "    chow_group = ChowGroup()\n",
    "    chow_group.add_intersection(intersection_point)\n",
    "    \n",
    "    # Define another curve and find its intersection with curve1\n",
    "    curve3 = Curve(slope=0.5, intercept=-1)  # y = 0.5x - 1\n",
    "    intersection_point2 = curve1.intersection(curve3)\n",
    "    \n",
    "    print(f\"Second intersection point: {intersection_point2}\")\n",
    "    \n",
    "    # Create another Chow group and add the new intersection\n",
    "    chow_group2 = ChowGroup()\n",
    "    chow_group2.add_intersection(intersection_point2)\n",
    "    \n",
    "    # Add the two groups\n",
    "    combined_group = chow_group + chow_group2\n",
    "    \n",
    "    # Display the combined group elements\n",
    "    print(combined_group)\n",
    "\n",
    "    # Step 4: Prove Group Properties\n",
    "    \n",
    "    # Closure Test\n",
    "    print(\"Closure Test:\", is_closure(chow_group, chow_group2))\n",
    "    \n",
    "    # Associativity Test\n",
    "    chow_group3 = ChowGroup()\n",
    "    curve4 = Curve(slope=-0.5, intercept=3)\n",
    "    intersection_point3 = curve1.intersection(curve4)\n",
    "    chow_group3.add_intersection(intersection_point3)\n",
    "    print(\"Associativity Test:\", is_associative(chow_group, chow_group2, chow_group3))\n",
    "    \n",
    "    # Identity Test\n",
    "    print(\"Identity Test:\", is_identity(chow_group))\n",
    "    \n",
    "    # Inverse Test\n",
    "    print(\"Inverse Test:\", is_inverse(chow_group))\n"
   ]
  },
  {
   "cell_type": "code",
   "execution_count": 3,
   "id": "e8f97e66",
   "metadata": {},
   "outputs": [
    {
     "data": {
      "application/vnd.plotly.v1+json": {
       "config": {
        "plotlyServerURL": "https://plot.ly"
       },
       "data": [
        {
         "mode": "markers",
         "name": "Chow Group Intersections",
         "type": "scatter",
         "x": [
          -1.2078180218574877,
          0.5098133195933363,
          1.1813223232818684,
          4.139553056477858,
          -1.952094659514034,
          -1.7441891354472114,
          -0.23380383690267836,
          7.700179576938145,
          0.3200069589017703,
          1.983514748030514,
          -0.4312075781011067,
          0.7522610795736911,
          -2.313024432242136,
          -2.5354178467061677,
          -0.7645567344648639,
          -0.2789537815185959,
          -0.261446270712654,
          -16.166623089260447,
          0.44942826650805934,
          0.08893749990409137,
          -2.1521674108061934,
          -0.6883581365427572,
          0.4803143513869235,
          -1.2163459405051518,
          0.41295815920074486,
          6.988121393862661,
          1.4158079846175982,
          75.69836145031766,
          -0.2532053078704755,
          -0.7228809124270656,
          0.405371714296477,
          0.26957441412057853,
          0.8281844570875844,
          -27.03955206463613,
          -1.4422839400067824,
          1.4650514159371255,
          -0.48430934798225866,
          8.43237859343186,
          3.280154339700858,
          2.492234695831371,
          2.267629283096344,
          0.9778542617482369,
          3.4322573821382862,
          3.3814694383624095,
          -0.978077736142324,
          -10.404995108272256,
          1.8647732135047772,
          -2.653390449360034,
          -0.8812743691829107,
          -0.9859092086382342,
          -3.0074193770803808,
          -1.1536747304120585,
          4.434413504779708,
          6.0931852432246085,
          -1.6320934843703034,
          0.44278828361117595,
          7.560744556336154,
          -0.8441667335364768,
          -4.713272267887774,
          -0.2637559531066706,
          1.5330502894705156,
          0.8001443239958463,
          4.4695462414025515,
          -3.2794954762038495,
          -0.811953503524788,
          -2.3775544501596695,
          -21.229455820586868,
          -0.8516658883421719,
          2.138511904410403,
          -0.22153039264313332,
          3.583859441856495,
          -2.0970359691872518,
          0.08947917201177852,
          0.10311173056897752,
          -3.2838716194531656,
          0.7376709959119168,
          -0.24447447455120502,
          3.85530696654558,
          -0.9441962271584571,
          -1.139598699069958,
          0.8088740984410953,
          -0.01979522772755421,
          0.6549133937077372,
          0.7247371696700808,
          -1.158331340474453,
          7.557021763762554,
          0.17227787538975223,
          -1.7088623703040522,
          0.02413723554694275,
          -0.11214143505072034,
          2.6606582084913866,
          1.3573318963476853,
          -12.928292464549342,
          -0.4378204538486373,
          0.29645342739002545,
          -2.1757507795219198,
          0.9488086860049607,
          0.7538882577311454,
          0.17775133491029357,
          -0.2306194827057653
         ],
         "y": [
          -1.1789522971612536,
          0.5041290052821052,
          -8.750240776666255,
          14.69678459140627,
          -0.6599148533888108,
          -16.805893376388372,
          7.351196102350456,
          -38.99761986011291,
          4.22885634050554,
          -4.911721900592563,
          -8.995913968018165,
          -3.131575031810324,
          17.1026341390804,
          14.172794770444392,
          0.03004500845678404,
          6.71881379189455,
          7.94114209604086,
          27.885963552454974,
          3.464391626149327,
          6.3374491485720394,
          -18.1883457308472,
          3.7064995898833892,
          -2.382687525894772,
          -4.459957354053232,
          -6.914211493495334,
          11.300298929385834,
          -6.701998442486262,
          -396.3149941992011,
          6.222911181054814,
          -9.798491697299141,
          0.31397401201126574,
          5.822771578603605,
          -2.7573710684920556,
          209.68995955503422,
          3.900316807817981,
          -4.809410795378513,
          0.3099568087802673,
          40.366253302771554,
          7.877960310118511,
          4.506905570019947,
          -9.383858929913563,
          6.677773978527862,
          6.764115580504669,
          1.825252939984615,
          -0.7975169202002457,
          46.297270863427165,
          -17.05089044189838,
          -1.8332552087397895,
          -5.603470767568523,
          9.571063239084147,
          -18.49555090511051,
          -2.401717703832432,
          -28.646940598126584,
          50.47266205526787,
          -0.2830839471116757,
          -6.20887661199015,
          68.23581516781331,
          0.9293027723767029,
          8.82450170106206,
          5.185345538633673,
          10.367716919958408,
          -1.2810052637660654,
          22.045007034206265,
          24.850775827646636,
          -7.8765777484870645,
          -2.9143996819088205,
          -201.83638814859293,
          -3.7124930395997717,
          1.2039857718307156,
          4.700823413742963,
          -22.801392687235555,
          4.219691212562918,
          -0.09288678565104636,
          -7.116875595001417,
          -9.369057815355164,
          0.3778375522113464,
          2.3700559506863863,
          14.733155150572042,
          0.5795356530376319,
          -8.540807202696975,
          -0.9945000667240349,
          1.7442872029182055,
          2.410635106248674,
          -2.6720970270602784,
          0.8554414888780291,
          26.08152846854135,
          -9.023303060284348,
          -0.11874195439274615,
          4.281012724055968,
          7.635595653760401,
          19.544070493268606,
          5.308821049029073,
          60.635695240796124,
          8.924343016961704,
          -0.04361549067711379,
          12.660814326168138,
          2.408427509842755,
          -5.287748025194724,
          0.1102281091543923,
          -2.0125554360895155
         ]
        }
       ],
       "layout": {
        "showlegend": true,
        "template": {
         "data": {
          "bar": [
           {
            "error_x": {
             "color": "#2a3f5f"
            },
            "error_y": {
             "color": "#2a3f5f"
            },
            "marker": {
             "line": {
              "color": "#E5ECF6",
              "width": 0.5
             },
             "pattern": {
              "fillmode": "overlay",
              "size": 10,
              "solidity": 0.2
             }
            },
            "type": "bar"
           }
          ],
          "barpolar": [
           {
            "marker": {
             "line": {
              "color": "#E5ECF6",
              "width": 0.5
             },
             "pattern": {
              "fillmode": "overlay",
              "size": 10,
              "solidity": 0.2
             }
            },
            "type": "barpolar"
           }
          ],
          "carpet": [
           {
            "aaxis": {
             "endlinecolor": "#2a3f5f",
             "gridcolor": "white",
             "linecolor": "white",
             "minorgridcolor": "white",
             "startlinecolor": "#2a3f5f"
            },
            "baxis": {
             "endlinecolor": "#2a3f5f",
             "gridcolor": "white",
             "linecolor": "white",
             "minorgridcolor": "white",
             "startlinecolor": "#2a3f5f"
            },
            "type": "carpet"
           }
          ],
          "choropleth": [
           {
            "colorbar": {
             "outlinewidth": 0,
             "ticks": ""
            },
            "type": "choropleth"
           }
          ],
          "contour": [
           {
            "colorbar": {
             "outlinewidth": 0,
             "ticks": ""
            },
            "colorscale": [
             [
              0,
              "#0d0887"
             ],
             [
              0.1111111111111111,
              "#46039f"
             ],
             [
              0.2222222222222222,
              "#7201a8"
             ],
             [
              0.3333333333333333,
              "#9c179e"
             ],
             [
              0.4444444444444444,
              "#bd3786"
             ],
             [
              0.5555555555555556,
              "#d8576b"
             ],
             [
              0.6666666666666666,
              "#ed7953"
             ],
             [
              0.7777777777777778,
              "#fb9f3a"
             ],
             [
              0.8888888888888888,
              "#fdca26"
             ],
             [
              1,
              "#f0f921"
             ]
            ],
            "type": "contour"
           }
          ],
          "contourcarpet": [
           {
            "colorbar": {
             "outlinewidth": 0,
             "ticks": ""
            },
            "type": "contourcarpet"
           }
          ],
          "heatmap": [
           {
            "colorbar": {
             "outlinewidth": 0,
             "ticks": ""
            },
            "colorscale": [
             [
              0,
              "#0d0887"
             ],
             [
              0.1111111111111111,
              "#46039f"
             ],
             [
              0.2222222222222222,
              "#7201a8"
             ],
             [
              0.3333333333333333,
              "#9c179e"
             ],
             [
              0.4444444444444444,
              "#bd3786"
             ],
             [
              0.5555555555555556,
              "#d8576b"
             ],
             [
              0.6666666666666666,
              "#ed7953"
             ],
             [
              0.7777777777777778,
              "#fb9f3a"
             ],
             [
              0.8888888888888888,
              "#fdca26"
             ],
             [
              1,
              "#f0f921"
             ]
            ],
            "type": "heatmap"
           }
          ],
          "heatmapgl": [
           {
            "colorbar": {
             "outlinewidth": 0,
             "ticks": ""
            },
            "colorscale": [
             [
              0,
              "#0d0887"
             ],
             [
              0.1111111111111111,
              "#46039f"
             ],
             [
              0.2222222222222222,
              "#7201a8"
             ],
             [
              0.3333333333333333,
              "#9c179e"
             ],
             [
              0.4444444444444444,
              "#bd3786"
             ],
             [
              0.5555555555555556,
              "#d8576b"
             ],
             [
              0.6666666666666666,
              "#ed7953"
             ],
             [
              0.7777777777777778,
              "#fb9f3a"
             ],
             [
              0.8888888888888888,
              "#fdca26"
             ],
             [
              1,
              "#f0f921"
             ]
            ],
            "type": "heatmapgl"
           }
          ],
          "histogram": [
           {
            "marker": {
             "pattern": {
              "fillmode": "overlay",
              "size": 10,
              "solidity": 0.2
             }
            },
            "type": "histogram"
           }
          ],
          "histogram2d": [
           {
            "colorbar": {
             "outlinewidth": 0,
             "ticks": ""
            },
            "colorscale": [
             [
              0,
              "#0d0887"
             ],
             [
              0.1111111111111111,
              "#46039f"
             ],
             [
              0.2222222222222222,
              "#7201a8"
             ],
             [
              0.3333333333333333,
              "#9c179e"
             ],
             [
              0.4444444444444444,
              "#bd3786"
             ],
             [
              0.5555555555555556,
              "#d8576b"
             ],
             [
              0.6666666666666666,
              "#ed7953"
             ],
             [
              0.7777777777777778,
              "#fb9f3a"
             ],
             [
              0.8888888888888888,
              "#fdca26"
             ],
             [
              1,
              "#f0f921"
             ]
            ],
            "type": "histogram2d"
           }
          ],
          "histogram2dcontour": [
           {
            "colorbar": {
             "outlinewidth": 0,
             "ticks": ""
            },
            "colorscale": [
             [
              0,
              "#0d0887"
             ],
             [
              0.1111111111111111,
              "#46039f"
             ],
             [
              0.2222222222222222,
              "#7201a8"
             ],
             [
              0.3333333333333333,
              "#9c179e"
             ],
             [
              0.4444444444444444,
              "#bd3786"
             ],
             [
              0.5555555555555556,
              "#d8576b"
             ],
             [
              0.6666666666666666,
              "#ed7953"
             ],
             [
              0.7777777777777778,
              "#fb9f3a"
             ],
             [
              0.8888888888888888,
              "#fdca26"
             ],
             [
              1,
              "#f0f921"
             ]
            ],
            "type": "histogram2dcontour"
           }
          ],
          "mesh3d": [
           {
            "colorbar": {
             "outlinewidth": 0,
             "ticks": ""
            },
            "type": "mesh3d"
           }
          ],
          "parcoords": [
           {
            "line": {
             "colorbar": {
              "outlinewidth": 0,
              "ticks": ""
             }
            },
            "type": "parcoords"
           }
          ],
          "pie": [
           {
            "automargin": true,
            "type": "pie"
           }
          ],
          "scatter": [
           {
            "fillpattern": {
             "fillmode": "overlay",
             "size": 10,
             "solidity": 0.2
            },
            "type": "scatter"
           }
          ],
          "scatter3d": [
           {
            "line": {
             "colorbar": {
              "outlinewidth": 0,
              "ticks": ""
             }
            },
            "marker": {
             "colorbar": {
              "outlinewidth": 0,
              "ticks": ""
             }
            },
            "type": "scatter3d"
           }
          ],
          "scattercarpet": [
           {
            "marker": {
             "colorbar": {
              "outlinewidth": 0,
              "ticks": ""
             }
            },
            "type": "scattercarpet"
           }
          ],
          "scattergeo": [
           {
            "marker": {
             "colorbar": {
              "outlinewidth": 0,
              "ticks": ""
             }
            },
            "type": "scattergeo"
           }
          ],
          "scattergl": [
           {
            "marker": {
             "colorbar": {
              "outlinewidth": 0,
              "ticks": ""
             }
            },
            "type": "scattergl"
           }
          ],
          "scattermapbox": [
           {
            "marker": {
             "colorbar": {
              "outlinewidth": 0,
              "ticks": ""
             }
            },
            "type": "scattermapbox"
           }
          ],
          "scatterpolar": [
           {
            "marker": {
             "colorbar": {
              "outlinewidth": 0,
              "ticks": ""
             }
            },
            "type": "scatterpolar"
           }
          ],
          "scatterpolargl": [
           {
            "marker": {
             "colorbar": {
              "outlinewidth": 0,
              "ticks": ""
             }
            },
            "type": "scatterpolargl"
           }
          ],
          "scatterternary": [
           {
            "marker": {
             "colorbar": {
              "outlinewidth": 0,
              "ticks": ""
             }
            },
            "type": "scatterternary"
           }
          ],
          "surface": [
           {
            "colorbar": {
             "outlinewidth": 0,
             "ticks": ""
            },
            "colorscale": [
             [
              0,
              "#0d0887"
             ],
             [
              0.1111111111111111,
              "#46039f"
             ],
             [
              0.2222222222222222,
              "#7201a8"
             ],
             [
              0.3333333333333333,
              "#9c179e"
             ],
             [
              0.4444444444444444,
              "#bd3786"
             ],
             [
              0.5555555555555556,
              "#d8576b"
             ],
             [
              0.6666666666666666,
              "#ed7953"
             ],
             [
              0.7777777777777778,
              "#fb9f3a"
             ],
             [
              0.8888888888888888,
              "#fdca26"
             ],
             [
              1,
              "#f0f921"
             ]
            ],
            "type": "surface"
           }
          ],
          "table": [
           {
            "cells": {
             "fill": {
              "color": "#EBF0F8"
             },
             "line": {
              "color": "white"
             }
            },
            "header": {
             "fill": {
              "color": "#C8D4E3"
             },
             "line": {
              "color": "white"
             }
            },
            "type": "table"
           }
          ]
         },
         "layout": {
          "annotationdefaults": {
           "arrowcolor": "#2a3f5f",
           "arrowhead": 0,
           "arrowwidth": 1
          },
          "autotypenumbers": "strict",
          "coloraxis": {
           "colorbar": {
            "outlinewidth": 0,
            "ticks": ""
           }
          },
          "colorscale": {
           "diverging": [
            [
             0,
             "#8e0152"
            ],
            [
             0.1,
             "#c51b7d"
            ],
            [
             0.2,
             "#de77ae"
            ],
            [
             0.3,
             "#f1b6da"
            ],
            [
             0.4,
             "#fde0ef"
            ],
            [
             0.5,
             "#f7f7f7"
            ],
            [
             0.6,
             "#e6f5d0"
            ],
            [
             0.7,
             "#b8e186"
            ],
            [
             0.8,
             "#7fbc41"
            ],
            [
             0.9,
             "#4d9221"
            ],
            [
             1,
             "#276419"
            ]
           ],
           "sequential": [
            [
             0,
             "#0d0887"
            ],
            [
             0.1111111111111111,
             "#46039f"
            ],
            [
             0.2222222222222222,
             "#7201a8"
            ],
            [
             0.3333333333333333,
             "#9c179e"
            ],
            [
             0.4444444444444444,
             "#bd3786"
            ],
            [
             0.5555555555555556,
             "#d8576b"
            ],
            [
             0.6666666666666666,
             "#ed7953"
            ],
            [
             0.7777777777777778,
             "#fb9f3a"
            ],
            [
             0.8888888888888888,
             "#fdca26"
            ],
            [
             1,
             "#f0f921"
            ]
           ],
           "sequentialminus": [
            [
             0,
             "#0d0887"
            ],
            [
             0.1111111111111111,
             "#46039f"
            ],
            [
             0.2222222222222222,
             "#7201a8"
            ],
            [
             0.3333333333333333,
             "#9c179e"
            ],
            [
             0.4444444444444444,
             "#bd3786"
            ],
            [
             0.5555555555555556,
             "#d8576b"
            ],
            [
             0.6666666666666666,
             "#ed7953"
            ],
            [
             0.7777777777777778,
             "#fb9f3a"
            ],
            [
             0.8888888888888888,
             "#fdca26"
            ],
            [
             1,
             "#f0f921"
            ]
           ]
          },
          "colorway": [
           "#636efa",
           "#EF553B",
           "#00cc96",
           "#ab63fa",
           "#FFA15A",
           "#19d3f3",
           "#FF6692",
           "#B6E880",
           "#FF97FF",
           "#FECB52"
          ],
          "font": {
           "color": "#2a3f5f"
          },
          "geo": {
           "bgcolor": "white",
           "lakecolor": "white",
           "landcolor": "#E5ECF6",
           "showlakes": true,
           "showland": true,
           "subunitcolor": "white"
          },
          "hoverlabel": {
           "align": "left"
          },
          "hovermode": "closest",
          "mapbox": {
           "style": "light"
          },
          "paper_bgcolor": "white",
          "plot_bgcolor": "#E5ECF6",
          "polar": {
           "angularaxis": {
            "gridcolor": "white",
            "linecolor": "white",
            "ticks": ""
           },
           "bgcolor": "#E5ECF6",
           "radialaxis": {
            "gridcolor": "white",
            "linecolor": "white",
            "ticks": ""
           }
          },
          "scene": {
           "xaxis": {
            "backgroundcolor": "#E5ECF6",
            "gridcolor": "white",
            "gridwidth": 2,
            "linecolor": "white",
            "showbackground": true,
            "ticks": "",
            "zerolinecolor": "white"
           },
           "yaxis": {
            "backgroundcolor": "#E5ECF6",
            "gridcolor": "white",
            "gridwidth": 2,
            "linecolor": "white",
            "showbackground": true,
            "ticks": "",
            "zerolinecolor": "white"
           },
           "zaxis": {
            "backgroundcolor": "#E5ECF6",
            "gridcolor": "white",
            "gridwidth": 2,
            "linecolor": "white",
            "showbackground": true,
            "ticks": "",
            "zerolinecolor": "white"
           }
          },
          "shapedefaults": {
           "line": {
            "color": "#2a3f5f"
           }
          },
          "ternary": {
           "aaxis": {
            "gridcolor": "white",
            "linecolor": "white",
            "ticks": ""
           },
           "baxis": {
            "gridcolor": "white",
            "linecolor": "white",
            "ticks": ""
           },
           "bgcolor": "#E5ECF6",
           "caxis": {
            "gridcolor": "white",
            "linecolor": "white",
            "ticks": ""
           }
          },
          "title": {
           "x": 0.05
          },
          "xaxis": {
           "automargin": true,
           "gridcolor": "white",
           "linecolor": "white",
           "ticks": "",
           "title": {
            "standoff": 15
           },
           "zerolinecolor": "white",
           "zerolinewidth": 2
          },
          "yaxis": {
           "automargin": true,
           "gridcolor": "white",
           "linecolor": "white",
           "ticks": "",
           "title": {
            "standoff": 15
           },
           "zerolinecolor": "white",
           "zerolinewidth": 2
          }
         }
        },
        "title": {
         "text": "Chow Group: Simulated Intersections of Algebraic Cycles"
        },
        "xaxis": {
         "anchor": "y",
         "domain": [
          0,
          1
         ],
         "title": {
          "text": "X Coordinate"
         }
        },
        "yaxis": {
         "anchor": "x",
         "domain": [
          0,
          1
         ],
         "title": {
          "text": "Y Coordinate"
         }
        }
       }
      },
      "text/html": [
       "<div>                            <div id=\"fc1937f1-1cec-4eeb-8545-6ffe33f2fb1b\" class=\"plotly-graph-div\" style=\"height:525px; width:100%;\"></div>            <script type=\"text/javascript\">                require([\"plotly\"], function(Plotly) {                    window.PLOTLYENV=window.PLOTLYENV || {};                                    if (document.getElementById(\"fc1937f1-1cec-4eeb-8545-6ffe33f2fb1b\")) {                    Plotly.newPlot(                        \"fc1937f1-1cec-4eeb-8545-6ffe33f2fb1b\",                        [{\"mode\":\"markers\",\"name\":\"Chow Group Intersections\",\"x\":[-1.2078180218574877,0.5098133195933363,1.1813223232818684,4.139553056477858,-1.952094659514034,-1.7441891354472114,-0.23380383690267836,7.700179576938145,0.3200069589017703,1.983514748030514,-0.4312075781011067,0.7522610795736911,-2.313024432242136,-2.5354178467061677,-0.7645567344648639,-0.2789537815185959,-0.261446270712654,-16.166623089260447,0.44942826650805934,0.08893749990409137,-2.1521674108061934,-0.6883581365427572,0.4803143513869235,-1.2163459405051518,0.41295815920074486,6.988121393862661,1.4158079846175982,75.69836145031766,-0.2532053078704755,-0.7228809124270656,0.405371714296477,0.26957441412057853,0.8281844570875844,-27.03955206463613,-1.4422839400067824,1.4650514159371255,-0.48430934798225866,8.43237859343186,3.280154339700858,2.492234695831371,2.267629283096344,0.9778542617482369,3.4322573821382862,3.3814694383624095,-0.978077736142324,-10.404995108272256,1.8647732135047772,-2.653390449360034,-0.8812743691829107,-0.9859092086382342,-3.0074193770803808,-1.1536747304120585,4.434413504779708,6.0931852432246085,-1.6320934843703034,0.44278828361117595,7.560744556336154,-0.8441667335364768,-4.713272267887774,-0.2637559531066706,1.5330502894705156,0.8001443239958463,4.4695462414025515,-3.2794954762038495,-0.811953503524788,-2.3775544501596695,-21.229455820586868,-0.8516658883421719,2.138511904410403,-0.22153039264313332,3.583859441856495,-2.0970359691872518,0.08947917201177852,0.10311173056897752,-3.2838716194531656,0.7376709959119168,-0.24447447455120502,3.85530696654558,-0.9441962271584571,-1.139598699069958,0.8088740984410953,-0.01979522772755421,0.6549133937077372,0.7247371696700808,-1.158331340474453,7.557021763762554,0.17227787538975223,-1.7088623703040522,0.02413723554694275,-0.11214143505072034,2.6606582084913866,1.3573318963476853,-12.928292464549342,-0.4378204538486373,0.29645342739002545,-2.1757507795219198,0.9488086860049607,0.7538882577311454,0.17775133491029357,-0.2306194827057653],\"y\":[-1.1789522971612536,0.5041290052821052,-8.750240776666255,14.69678459140627,-0.6599148533888108,-16.805893376388372,7.351196102350456,-38.99761986011291,4.22885634050554,-4.911721900592563,-8.995913968018165,-3.131575031810324,17.1026341390804,14.172794770444392,0.03004500845678404,6.71881379189455,7.94114209604086,27.885963552454974,3.464391626149327,6.3374491485720394,-18.1883457308472,3.7064995898833892,-2.382687525894772,-4.459957354053232,-6.914211493495334,11.300298929385834,-6.701998442486262,-396.3149941992011,6.222911181054814,-9.798491697299141,0.31397401201126574,5.822771578603605,-2.7573710684920556,209.68995955503422,3.900316807817981,-4.809410795378513,0.3099568087802673,40.366253302771554,7.877960310118511,4.506905570019947,-9.383858929913563,6.677773978527862,6.764115580504669,1.825252939984615,-0.7975169202002457,46.297270863427165,-17.05089044189838,-1.8332552087397895,-5.603470767568523,9.571063239084147,-18.49555090511051,-2.401717703832432,-28.646940598126584,50.47266205526787,-0.2830839471116757,-6.20887661199015,68.23581516781331,0.9293027723767029,8.82450170106206,5.185345538633673,10.367716919958408,-1.2810052637660654,22.045007034206265,24.850775827646636,-7.8765777484870645,-2.9143996819088205,-201.83638814859293,-3.7124930395997717,1.2039857718307156,4.700823413742963,-22.801392687235555,4.219691212562918,-0.09288678565104636,-7.116875595001417,-9.369057815355164,0.3778375522113464,2.3700559506863863,14.733155150572042,0.5795356530376319,-8.540807202696975,-0.9945000667240349,1.7442872029182055,2.410635106248674,-2.6720970270602784,0.8554414888780291,26.08152846854135,-9.023303060284348,-0.11874195439274615,4.281012724055968,7.635595653760401,19.544070493268606,5.308821049029073,60.635695240796124,8.924343016961704,-0.04361549067711379,12.660814326168138,2.408427509842755,-5.287748025194724,0.1102281091543923,-2.0125554360895155],\"type\":\"scatter\"}],                        {\"template\":{\"data\":{\"histogram2dcontour\":[{\"type\":\"histogram2dcontour\",\"colorbar\":{\"outlinewidth\":0,\"ticks\":\"\"},\"colorscale\":[[0.0,\"#0d0887\"],[0.1111111111111111,\"#46039f\"],[0.2222222222222222,\"#7201a8\"],[0.3333333333333333,\"#9c179e\"],[0.4444444444444444,\"#bd3786\"],[0.5555555555555556,\"#d8576b\"],[0.6666666666666666,\"#ed7953\"],[0.7777777777777778,\"#fb9f3a\"],[0.8888888888888888,\"#fdca26\"],[1.0,\"#f0f921\"]]}],\"choropleth\":[{\"type\":\"choropleth\",\"colorbar\":{\"outlinewidth\":0,\"ticks\":\"\"}}],\"histogram2d\":[{\"type\":\"histogram2d\",\"colorbar\":{\"outlinewidth\":0,\"ticks\":\"\"},\"colorscale\":[[0.0,\"#0d0887\"],[0.1111111111111111,\"#46039f\"],[0.2222222222222222,\"#7201a8\"],[0.3333333333333333,\"#9c179e\"],[0.4444444444444444,\"#bd3786\"],[0.5555555555555556,\"#d8576b\"],[0.6666666666666666,\"#ed7953\"],[0.7777777777777778,\"#fb9f3a\"],[0.8888888888888888,\"#fdca26\"],[1.0,\"#f0f921\"]]}],\"heatmap\":[{\"type\":\"heatmap\",\"colorbar\":{\"outlinewidth\":0,\"ticks\":\"\"},\"colorscale\":[[0.0,\"#0d0887\"],[0.1111111111111111,\"#46039f\"],[0.2222222222222222,\"#7201a8\"],[0.3333333333333333,\"#9c179e\"],[0.4444444444444444,\"#bd3786\"],[0.5555555555555556,\"#d8576b\"],[0.6666666666666666,\"#ed7953\"],[0.7777777777777778,\"#fb9f3a\"],[0.8888888888888888,\"#fdca26\"],[1.0,\"#f0f921\"]]}],\"heatmapgl\":[{\"type\":\"heatmapgl\",\"colorbar\":{\"outlinewidth\":0,\"ticks\":\"\"},\"colorscale\":[[0.0,\"#0d0887\"],[0.1111111111111111,\"#46039f\"],[0.2222222222222222,\"#7201a8\"],[0.3333333333333333,\"#9c179e\"],[0.4444444444444444,\"#bd3786\"],[0.5555555555555556,\"#d8576b\"],[0.6666666666666666,\"#ed7953\"],[0.7777777777777778,\"#fb9f3a\"],[0.8888888888888888,\"#fdca26\"],[1.0,\"#f0f921\"]]}],\"contourcarpet\":[{\"type\":\"contourcarpet\",\"colorbar\":{\"outlinewidth\":0,\"ticks\":\"\"}}],\"contour\":[{\"type\":\"contour\",\"colorbar\":{\"outlinewidth\":0,\"ticks\":\"\"},\"colorscale\":[[0.0,\"#0d0887\"],[0.1111111111111111,\"#46039f\"],[0.2222222222222222,\"#7201a8\"],[0.3333333333333333,\"#9c179e\"],[0.4444444444444444,\"#bd3786\"],[0.5555555555555556,\"#d8576b\"],[0.6666666666666666,\"#ed7953\"],[0.7777777777777778,\"#fb9f3a\"],[0.8888888888888888,\"#fdca26\"],[1.0,\"#f0f921\"]]}],\"surface\":[{\"type\":\"surface\",\"colorbar\":{\"outlinewidth\":0,\"ticks\":\"\"},\"colorscale\":[[0.0,\"#0d0887\"],[0.1111111111111111,\"#46039f\"],[0.2222222222222222,\"#7201a8\"],[0.3333333333333333,\"#9c179e\"],[0.4444444444444444,\"#bd3786\"],[0.5555555555555556,\"#d8576b\"],[0.6666666666666666,\"#ed7953\"],[0.7777777777777778,\"#fb9f3a\"],[0.8888888888888888,\"#fdca26\"],[1.0,\"#f0f921\"]]}],\"mesh3d\":[{\"type\":\"mesh3d\",\"colorbar\":{\"outlinewidth\":0,\"ticks\":\"\"}}],\"scatter\":[{\"fillpattern\":{\"fillmode\":\"overlay\",\"size\":10,\"solidity\":0.2},\"type\":\"scatter\"}],\"parcoords\":[{\"type\":\"parcoords\",\"line\":{\"colorbar\":{\"outlinewidth\":0,\"ticks\":\"\"}}}],\"scatterpolargl\":[{\"type\":\"scatterpolargl\",\"marker\":{\"colorbar\":{\"outlinewidth\":0,\"ticks\":\"\"}}}],\"bar\":[{\"error_x\":{\"color\":\"#2a3f5f\"},\"error_y\":{\"color\":\"#2a3f5f\"},\"marker\":{\"line\":{\"color\":\"#E5ECF6\",\"width\":0.5},\"pattern\":{\"fillmode\":\"overlay\",\"size\":10,\"solidity\":0.2}},\"type\":\"bar\"}],\"scattergeo\":[{\"type\":\"scattergeo\",\"marker\":{\"colorbar\":{\"outlinewidth\":0,\"ticks\":\"\"}}}],\"scatterpolar\":[{\"type\":\"scatterpolar\",\"marker\":{\"colorbar\":{\"outlinewidth\":0,\"ticks\":\"\"}}}],\"histogram\":[{\"marker\":{\"pattern\":{\"fillmode\":\"overlay\",\"size\":10,\"solidity\":0.2}},\"type\":\"histogram\"}],\"scattergl\":[{\"type\":\"scattergl\",\"marker\":{\"colorbar\":{\"outlinewidth\":0,\"ticks\":\"\"}}}],\"scatter3d\":[{\"type\":\"scatter3d\",\"line\":{\"colorbar\":{\"outlinewidth\":0,\"ticks\":\"\"}},\"marker\":{\"colorbar\":{\"outlinewidth\":0,\"ticks\":\"\"}}}],\"scattermapbox\":[{\"type\":\"scattermapbox\",\"marker\":{\"colorbar\":{\"outlinewidth\":0,\"ticks\":\"\"}}}],\"scatterternary\":[{\"type\":\"scatterternary\",\"marker\":{\"colorbar\":{\"outlinewidth\":0,\"ticks\":\"\"}}}],\"scattercarpet\":[{\"type\":\"scattercarpet\",\"marker\":{\"colorbar\":{\"outlinewidth\":0,\"ticks\":\"\"}}}],\"carpet\":[{\"aaxis\":{\"endlinecolor\":\"#2a3f5f\",\"gridcolor\":\"white\",\"linecolor\":\"white\",\"minorgridcolor\":\"white\",\"startlinecolor\":\"#2a3f5f\"},\"baxis\":{\"endlinecolor\":\"#2a3f5f\",\"gridcolor\":\"white\",\"linecolor\":\"white\",\"minorgridcolor\":\"white\",\"startlinecolor\":\"#2a3f5f\"},\"type\":\"carpet\"}],\"table\":[{\"cells\":{\"fill\":{\"color\":\"#EBF0F8\"},\"line\":{\"color\":\"white\"}},\"header\":{\"fill\":{\"color\":\"#C8D4E3\"},\"line\":{\"color\":\"white\"}},\"type\":\"table\"}],\"barpolar\":[{\"marker\":{\"line\":{\"color\":\"#E5ECF6\",\"width\":0.5},\"pattern\":{\"fillmode\":\"overlay\",\"size\":10,\"solidity\":0.2}},\"type\":\"barpolar\"}],\"pie\":[{\"automargin\":true,\"type\":\"pie\"}]},\"layout\":{\"autotypenumbers\":\"strict\",\"colorway\":[\"#636efa\",\"#EF553B\",\"#00cc96\",\"#ab63fa\",\"#FFA15A\",\"#19d3f3\",\"#FF6692\",\"#B6E880\",\"#FF97FF\",\"#FECB52\"],\"font\":{\"color\":\"#2a3f5f\"},\"hovermode\":\"closest\",\"hoverlabel\":{\"align\":\"left\"},\"paper_bgcolor\":\"white\",\"plot_bgcolor\":\"#E5ECF6\",\"polar\":{\"bgcolor\":\"#E5ECF6\",\"angularaxis\":{\"gridcolor\":\"white\",\"linecolor\":\"white\",\"ticks\":\"\"},\"radialaxis\":{\"gridcolor\":\"white\",\"linecolor\":\"white\",\"ticks\":\"\"}},\"ternary\":{\"bgcolor\":\"#E5ECF6\",\"aaxis\":{\"gridcolor\":\"white\",\"linecolor\":\"white\",\"ticks\":\"\"},\"baxis\":{\"gridcolor\":\"white\",\"linecolor\":\"white\",\"ticks\":\"\"},\"caxis\":{\"gridcolor\":\"white\",\"linecolor\":\"white\",\"ticks\":\"\"}},\"coloraxis\":{\"colorbar\":{\"outlinewidth\":0,\"ticks\":\"\"}},\"colorscale\":{\"sequential\":[[0.0,\"#0d0887\"],[0.1111111111111111,\"#46039f\"],[0.2222222222222222,\"#7201a8\"],[0.3333333333333333,\"#9c179e\"],[0.4444444444444444,\"#bd3786\"],[0.5555555555555556,\"#d8576b\"],[0.6666666666666666,\"#ed7953\"],[0.7777777777777778,\"#fb9f3a\"],[0.8888888888888888,\"#fdca26\"],[1.0,\"#f0f921\"]],\"sequentialminus\":[[0.0,\"#0d0887\"],[0.1111111111111111,\"#46039f\"],[0.2222222222222222,\"#7201a8\"],[0.3333333333333333,\"#9c179e\"],[0.4444444444444444,\"#bd3786\"],[0.5555555555555556,\"#d8576b\"],[0.6666666666666666,\"#ed7953\"],[0.7777777777777778,\"#fb9f3a\"],[0.8888888888888888,\"#fdca26\"],[1.0,\"#f0f921\"]],\"diverging\":[[0,\"#8e0152\"],[0.1,\"#c51b7d\"],[0.2,\"#de77ae\"],[0.3,\"#f1b6da\"],[0.4,\"#fde0ef\"],[0.5,\"#f7f7f7\"],[0.6,\"#e6f5d0\"],[0.7,\"#b8e186\"],[0.8,\"#7fbc41\"],[0.9,\"#4d9221\"],[1,\"#276419\"]]},\"xaxis\":{\"gridcolor\":\"white\",\"linecolor\":\"white\",\"ticks\":\"\",\"title\":{\"standoff\":15},\"zerolinecolor\":\"white\",\"automargin\":true,\"zerolinewidth\":2},\"yaxis\":{\"gridcolor\":\"white\",\"linecolor\":\"white\",\"ticks\":\"\",\"title\":{\"standoff\":15},\"zerolinecolor\":\"white\",\"automargin\":true,\"zerolinewidth\":2},\"scene\":{\"xaxis\":{\"backgroundcolor\":\"#E5ECF6\",\"gridcolor\":\"white\",\"linecolor\":\"white\",\"showbackground\":true,\"ticks\":\"\",\"zerolinecolor\":\"white\",\"gridwidth\":2},\"yaxis\":{\"backgroundcolor\":\"#E5ECF6\",\"gridcolor\":\"white\",\"linecolor\":\"white\",\"showbackground\":true,\"ticks\":\"\",\"zerolinecolor\":\"white\",\"gridwidth\":2},\"zaxis\":{\"backgroundcolor\":\"#E5ECF6\",\"gridcolor\":\"white\",\"linecolor\":\"white\",\"showbackground\":true,\"ticks\":\"\",\"zerolinecolor\":\"white\",\"gridwidth\":2}},\"shapedefaults\":{\"line\":{\"color\":\"#2a3f5f\"}},\"annotationdefaults\":{\"arrowcolor\":\"#2a3f5f\",\"arrowhead\":0,\"arrowwidth\":1},\"geo\":{\"bgcolor\":\"white\",\"landcolor\":\"#E5ECF6\",\"subunitcolor\":\"white\",\"showland\":true,\"showlakes\":true,\"lakecolor\":\"white\"},\"title\":{\"x\":0.05},\"mapbox\":{\"style\":\"light\"}}},\"xaxis\":{\"anchor\":\"y\",\"domain\":[0.0,1.0],\"title\":{\"text\":\"X Coordinate\"}},\"yaxis\":{\"anchor\":\"x\",\"domain\":[0.0,1.0],\"title\":{\"text\":\"Y Coordinate\"}},\"title\":{\"text\":\"Chow Group: Simulated Intersections of Algebraic Cycles\"},\"showlegend\":true},                        {\"responsive\": true}                    ).then(function(){\n",
       "                            \n",
       "var gd = document.getElementById('fc1937f1-1cec-4eeb-8545-6ffe33f2fb1b');\n",
       "var x = new MutationObserver(function (mutations, observer) {{\n",
       "        var display = window.getComputedStyle(gd).display;\n",
       "        if (!display || display === 'none') {{\n",
       "            console.log([gd, 'removed!']);\n",
       "            Plotly.purge(gd);\n",
       "            observer.disconnect();\n",
       "        }}\n",
       "}});\n",
       "\n",
       "// Listen for the removal of the full notebook cells\n",
       "var notebookContainer = gd.closest('#notebook-container');\n",
       "if (notebookContainer) {{\n",
       "    x.observe(notebookContainer, {childList: true});\n",
       "}}\n",
       "\n",
       "// Listen for the clearing of the current output cell\n",
       "var outputEl = gd.closest('.output');\n",
       "if (outputEl) {{\n",
       "    x.observe(outputEl, {childList: true});\n",
       "}}\n",
       "\n",
       "                        })                };                });            </script>        </div>"
      ]
     },
     "metadata": {},
     "output_type": "display_data"
    },
    {
     "name": "stdout",
     "output_type": "stream",
     "text": [
      "Chow group properties successfully validated!\n"
     ]
    }
   ],
   "source": [
    "import numpy as np\n",
    "import random\n",
    "import plotly.graph_objs as go\n",
    "from plotly.subplots import make_subplots\n",
    "\n",
    "# Step 1: Define a class for an Algebraic Curve (modeled as lines on a plane)\n",
    "class AlgebraicCycle:\n",
    "    def __init__(self, slope, intercept):\n",
    "        self.slope = slope  # slope of the line (curve)\n",
    "        self.intercept = intercept  # y-intercept\n",
    "    \n",
    "    # Method to find intersection with another curve (line)\n",
    "    def intersection(self, other):\n",
    "        if self.slope == other.slope:\n",
    "            # Parallel lines, no intersection\n",
    "            return None\n",
    "        else:\n",
    "            # Calculate intersection point (x, y)\n",
    "            x = (other.intercept - self.intercept) / (self.slope - other.slope)\n",
    "            y = self.slope * x + self.intercept\n",
    "            return (x, y)\n",
    "\n",
    "# Step 2: Define the Chow Group structure\n",
    "class ChowGroup:\n",
    "    def __init__(self):\n",
    "        self.elements = []  # Elements of the group (intersection points)\n",
    "    \n",
    "    def add_intersection(self, intersection):\n",
    "        if intersection:\n",
    "            self.elements.append(intersection)\n",
    "    \n",
    "    def __add__(self, other):\n",
    "        \"\"\"Addition operation in Chow group: Union of intersections.\"\"\"\n",
    "        combined_group = ChowGroup()\n",
    "        combined_group.elements = self.elements + other.elements\n",
    "        return combined_group\n",
    "    \n",
    "    def __str__(self):\n",
    "        return f\"Chow Group Elements: {self.elements}\"\n",
    "\n",
    "# Monte Carlo Simulation Function to simulate intersections and teach Chow Groups\n",
    "def chow_group_simulation(num_trials):\n",
    "    intersections = []  # To store all intersection points\n",
    "    \n",
    "    for _ in range(num_trials):\n",
    "        # Randomly generate slopes and intercepts for two curves\n",
    "        slope1 = random.uniform(-10, 10)\n",
    "        intercept1 = random.uniform(-10, 10)\n",
    "        slope2 = random.uniform(-10, 10)\n",
    "        intercept2 = random.uniform(-10, 10)\n",
    "        \n",
    "        # Create two random algebraic cycles (curves)\n",
    "        curve1 = AlgebraicCycle(slope=slope1, intercept=intercept1)\n",
    "        curve2 = AlgebraicCycle(slope=slope2, intercept=intercept2)\n",
    "        \n",
    "        # Find their intersection\n",
    "        intersection_point = curve1.intersection(curve2)\n",
    "        \n",
    "        if intersection_point:\n",
    "            intersections.append(intersection_point)  # Store valid intersection points\n",
    "\n",
    "    return intersections\n",
    "\n",
    "# Plot function using Plotly to visualize intersection points as part of Chow groups\n",
    "def plot_chow_group_intersections(intersections):\n",
    "    # Extract x and y coordinates\n",
    "    x_coords = [point[0] for point in intersections]\n",
    "    y_coords = [point[1] for point in intersections]\n",
    "    \n",
    "    # Create the plot\n",
    "    fig = make_subplots(rows=1, cols=1)\n",
    "    \n",
    "    # Scatter plot of intersection points\n",
    "    scatter = go.Scatter(x=x_coords, y=y_coords, mode='markers', name='Chow Group Intersections')\n",
    "    \n",
    "    fig.add_trace(scatter)\n",
    "    \n",
    "    # Set title and axis labels\n",
    "    fig.update_layout(\n",
    "        title=\"Chow Group: Simulated Intersections of Algebraic Cycles\",\n",
    "        xaxis_title=\"X Coordinate\",\n",
    "        yaxis_title=\"Y Coordinate\",\n",
    "        showlegend=True\n",
    "    )\n",
    "    \n",
    "    # Show the plot\n",
    "    fig.show()\n",
    "\n",
    "# Group Properties Verification for Teaching\n",
    "def is_chow_group_property_valid(chow_group1, chow_group2):\n",
    "    \"\"\"Teach: Verify closure, associativity, and identity using random intersections.\"\"\"\n",
    "    # Closure\n",
    "    combined_group = chow_group1 + chow_group2\n",
    "    assert isinstance(combined_group, ChowGroup), \"Closure failed!\"\n",
    "\n",
    "    # Associativity\n",
    "    third_group = ChowGroup()\n",
    "    third_group.add_intersection((random.uniform(-10, 10), random.uniform(-10, 10)))  # Add a random point\n",
    "    assert (chow_group1 + (chow_group2 + third_group)).elements == ((chow_group1 + chow_group2) + third_group).elements, \"Associativity failed!\"\n",
    "\n",
    "    # Identity: Adding an empty group should yield the original group\n",
    "    identity_group = ChowGroup()  # Empty group\n",
    "    assert (chow_group1 + identity_group).elements == chow_group1.elements, \"Identity property failed!\"\n",
    "\n",
    "# Main simulation: Show how intersections simulate Chow group properties\n",
    "if __name__ == \"__main__\":\n",
    "    # Number of trials for Monte Carlo simulation\n",
    "    num_trials = 100\n",
    "    \n",
    "    # Run the simulation of Chow group intersections\n",
    "    intersections = chow_group_simulation(num_trials)\n",
    "    \n",
    "    # Plot the intersection points as part of the Chow group\n",
    "    plot_chow_group_intersections(intersections)\n",
    "    \n",
    "    # Create two Chow groups from the intersections and check properties\n",
    "    chow_group1 = ChowGroup()\n",
    "    chow_group2 = ChowGroup()\n",
    "    \n",
    "    for i in range(num_trials // 2):\n",
    "        chow_group1.add_intersection(intersections[i])\n",
    "    for i in range(num_trials // 2, num_trials):\n",
    "        chow_group2.add_intersection(intersections[i])\n",
    "    \n",
    "    # Verify group properties in an interactive way\n",
    "    is_chow_group_property_valid(chow_group1, chow_group2)\n",
    "    \n",
    "    print(\"Chow group properties successfully validated!\")\n"
   ]
  },
  {
   "cell_type": "code",
   "execution_count": 5,
   "id": "8960c207",
   "metadata": {},
   "outputs": [
    {
     "data": {
      "application/vnd.plotly.v1+json": {
       "config": {
        "plotlyServerURL": "https://plot.ly"
       },
       "data": [
        {
         "mode": "markers+text",
         "text": [
          "P1",
          "P2",
          "P3",
          "P4",
          "P5",
          "P6",
          "P7",
          "P8",
          "P9",
          "P10",
          "P11",
          "P12",
          "P13",
          "P14",
          "P15",
          "P16",
          "P17",
          "P18",
          "P19",
          "P20",
          "P21",
          "P22",
          "P23",
          "P24",
          "P25",
          "P26",
          "P27",
          "P28",
          "P29",
          "P30",
          "P31",
          "P32",
          "P33",
          "P34",
          "P35",
          "P36",
          "P37",
          "P38",
          "P39",
          "P40",
          "P41",
          "P42",
          "P43",
          "P44",
          "P45",
          "P46",
          "P47",
          "P48",
          "P49",
          "P50",
          "P51",
          "P52",
          "P53",
          "P54",
          "P55",
          "P56",
          "P57",
          "P58",
          "P59",
          "P60",
          "P61",
          "P62",
          "P63",
          "P64",
          "P65",
          "P66",
          "P67",
          "P68",
          "P69",
          "P70",
          "P71",
          "P72",
          "P73",
          "P74",
          "P75",
          "P76",
          "P77",
          "P78",
          "P79",
          "P80",
          "P81",
          "P82",
          "P83",
          "P84",
          "P85",
          "P86",
          "P87",
          "P88",
          "P89",
          "P90",
          "P91",
          "P92",
          "P93",
          "P94",
          "P95",
          "P96",
          "P97",
          "P98",
          "P99",
          "P100"
         ],
         "textposition": "top center",
         "type": "scatter",
         "x": [
          13.676044579237244,
          0.461669576789384,
          -0.2922800763993959,
          0.6517753370479004,
          8.239981246010139,
          1.6677375332840825,
          0.3571374384766576,
          29.1132628099654,
          -0.10588363989599733,
          3.581752214284341,
          0.838325204820541,
          2.3215078270819762,
          -0.8482549976956049,
          1.2089024955291987,
          -1.0960107802973154,
          0.44289472970745886,
          -2.794928760005064,
          6.445058491215729,
          -2.513205255420182,
          -5.609704024067143,
          1.022137575760282,
          0.47453332510252005,
          -1.2115420946730995,
          -0.1519472918801013,
          0.9051868014223918,
          -0.7947075616287183,
          -1.6003202080593715,
          -0.3234800191469755,
          0.6820925312165442,
          -0.01668603438387339,
          -0.20693867285765236,
          0.559396997351782,
          -0.3818620883313818,
          0.12031761463693462,
          -3.8658890585764287,
          -0.727690435064791,
          30.034741646454453,
          -0.29027051142848714,
          -0.3043239416519363,
          -7.075345213667312,
          -1.7880404297838348,
          18.701652635083587,
          13.613159845966262,
          8.077785639899254,
          57.801114857900785,
          -1.8994107202602142,
          0.004451751273717858,
          -6.649115021577808,
          0.8871659530369512,
          -0.16559413690790395,
          -1.6523080057855326,
          -1.571598417024166,
          0.8053512638438614,
          -23.638989008264833,
          0.35407241789762733,
          -1.5272054364156389,
          -4.324773355413946,
          -3.3817506994308193,
          -0.9754389175432254,
          -0.22871224730615797,
          0.48199540129703955,
          0.3949845179635991,
          0.9317929535604321,
          0.5181736933902082,
          -1.2417716737759008,
          -0.37350838129142505,
          -0.40289902586943915,
          -1.1709640991661643,
          1.6667504926449108,
          0.3455062434917047,
          -0.05155482545284922,
          -1.9820379374978059,
          -0.6753020449690034,
          1.2592709054937643,
          1.1591558650775349,
          -0.2714935979890031,
          2.7792990931989348,
          4.61869992079662,
          2.1099121346469887,
          -5.507483192226016,
          1.5325596436903546,
          -3.5261190651058976,
          -0.5562097863766444,
          -0.6209829573319846,
          1.197686888246001,
          -0.16962983266057635,
          1.0423270085173963,
          0.23193563059595484,
          -4.309376977299859,
          0.5736703907883716,
          2.5283428496131592,
          12.340576850423684,
          1.2302727748171463,
          0.3031554405014572,
          0.49715716253085024,
          -2.4687388268716184,
          0.6308882212731147,
          -1.410898943133629,
          -0.09435369481910771,
          -4.445129843375957
         ],
         "y": [
          81.22152234998767,
          -2.3446356193570272,
          5.0645554171049225,
          10.673884839345929,
          -51.29792898778415,
          -10.541419724759361,
          7.571331143169261,
          178.91476857219465,
          -3.355629266276109,
          -24.133441921479097,
          3.843453408459069,
          -3.917423489231137,
          -2.6902809029004295,
          -7.795926169279368,
          -4.672515865704279,
          -5.043772859327653,
          5.620501536554198,
          0.9659555040446444,
          8.528484157508773,
          42.901359224264226,
          1.125214511177795,
          -0.12317127465889488,
          2.360951609134938,
          -1.8544694348064779,
          2.231516353577484,
          11.197042113371747,
          -5.032770749065779,
          5.9180130222959235,
          -1.2546410384454862,
          0.334857460396653,
          4.887483873096883,
          -4.157688618134706,
          -8.287750838196732,
          5.7233085834554265,
          20.448128739709993,
          4.519826091700559,
          -156.74629974624693,
          6.316148561226623,
          6.262908671153834,
          25.008605953175508,
          -5.929971223599995,
          112.57560627975029,
          -21.120657368356,
          40.346606296906245,
          433.8711313908583,
          6.361289914042322,
          -1.2954723508605746,
          -21.013816407119833,
          3.5785328561751353,
          3.808198179491054,
          3.0689689389958694,
          -14.619268252645156,
          2.6182244425541823,
          45.33128381989974,
          -8.401011301244353,
          -6.417009095240042,
          -20.282344360735664,
          -36.5470130531089,
          5.2511645498313815,
          -0.6562993218136195,
          5.356079287552581,
          2.6735009624452775,
          2.274061703834593,
          2.6822616344594605,
          5.927710898796011,
          -1.1812175438182826,
          5.715894758512273,
          6.317786890214727,
          -3.7614915464552237,
          3.9536462863709865,
          2.700678421522143,
          -9.518389198606988,
          4.344835354265436,
          4.914823715347262,
          -15.100654595678865,
          -0.2846392256231245,
          1.543300516349614,
          16.789535812300606,
          10.685832794797196,
          -28.990558844720994,
          -7.777462132945607,
          3.242686918990075,
          5.54850480135237,
          -0.6054256176202537,
          -7.573433952534788,
          3.7873371641129507,
          -3.58731466983259,
          -5.0934634838856585,
          39.78727697458314,
          5.038934629516158,
          -16.644801521796502,
          -52.36193557790799,
          2.2633532209827374,
          3.2542670877974715,
          -2.284336647383655,
          -8.113053427893451,
          -11.848992102881862,
          -1.8884891392518712,
          4.116695174099635,
          29.14305090560723
         ]
        }
       ],
       "layout": {
        "showlegend": false,
        "template": {
         "data": {
          "bar": [
           {
            "error_x": {
             "color": "#2a3f5f"
            },
            "error_y": {
             "color": "#2a3f5f"
            },
            "marker": {
             "line": {
              "color": "#E5ECF6",
              "width": 0.5
             },
             "pattern": {
              "fillmode": "overlay",
              "size": 10,
              "solidity": 0.2
             }
            },
            "type": "bar"
           }
          ],
          "barpolar": [
           {
            "marker": {
             "line": {
              "color": "#E5ECF6",
              "width": 0.5
             },
             "pattern": {
              "fillmode": "overlay",
              "size": 10,
              "solidity": 0.2
             }
            },
            "type": "barpolar"
           }
          ],
          "carpet": [
           {
            "aaxis": {
             "endlinecolor": "#2a3f5f",
             "gridcolor": "white",
             "linecolor": "white",
             "minorgridcolor": "white",
             "startlinecolor": "#2a3f5f"
            },
            "baxis": {
             "endlinecolor": "#2a3f5f",
             "gridcolor": "white",
             "linecolor": "white",
             "minorgridcolor": "white",
             "startlinecolor": "#2a3f5f"
            },
            "type": "carpet"
           }
          ],
          "choropleth": [
           {
            "colorbar": {
             "outlinewidth": 0,
             "ticks": ""
            },
            "type": "choropleth"
           }
          ],
          "contour": [
           {
            "colorbar": {
             "outlinewidth": 0,
             "ticks": ""
            },
            "colorscale": [
             [
              0,
              "#0d0887"
             ],
             [
              0.1111111111111111,
              "#46039f"
             ],
             [
              0.2222222222222222,
              "#7201a8"
             ],
             [
              0.3333333333333333,
              "#9c179e"
             ],
             [
              0.4444444444444444,
              "#bd3786"
             ],
             [
              0.5555555555555556,
              "#d8576b"
             ],
             [
              0.6666666666666666,
              "#ed7953"
             ],
             [
              0.7777777777777778,
              "#fb9f3a"
             ],
             [
              0.8888888888888888,
              "#fdca26"
             ],
             [
              1,
              "#f0f921"
             ]
            ],
            "type": "contour"
           }
          ],
          "contourcarpet": [
           {
            "colorbar": {
             "outlinewidth": 0,
             "ticks": ""
            },
            "type": "contourcarpet"
           }
          ],
          "heatmap": [
           {
            "colorbar": {
             "outlinewidth": 0,
             "ticks": ""
            },
            "colorscale": [
             [
              0,
              "#0d0887"
             ],
             [
              0.1111111111111111,
              "#46039f"
             ],
             [
              0.2222222222222222,
              "#7201a8"
             ],
             [
              0.3333333333333333,
              "#9c179e"
             ],
             [
              0.4444444444444444,
              "#bd3786"
             ],
             [
              0.5555555555555556,
              "#d8576b"
             ],
             [
              0.6666666666666666,
              "#ed7953"
             ],
             [
              0.7777777777777778,
              "#fb9f3a"
             ],
             [
              0.8888888888888888,
              "#fdca26"
             ],
             [
              1,
              "#f0f921"
             ]
            ],
            "type": "heatmap"
           }
          ],
          "heatmapgl": [
           {
            "colorbar": {
             "outlinewidth": 0,
             "ticks": ""
            },
            "colorscale": [
             [
              0,
              "#0d0887"
             ],
             [
              0.1111111111111111,
              "#46039f"
             ],
             [
              0.2222222222222222,
              "#7201a8"
             ],
             [
              0.3333333333333333,
              "#9c179e"
             ],
             [
              0.4444444444444444,
              "#bd3786"
             ],
             [
              0.5555555555555556,
              "#d8576b"
             ],
             [
              0.6666666666666666,
              "#ed7953"
             ],
             [
              0.7777777777777778,
              "#fb9f3a"
             ],
             [
              0.8888888888888888,
              "#fdca26"
             ],
             [
              1,
              "#f0f921"
             ]
            ],
            "type": "heatmapgl"
           }
          ],
          "histogram": [
           {
            "marker": {
             "pattern": {
              "fillmode": "overlay",
              "size": 10,
              "solidity": 0.2
             }
            },
            "type": "histogram"
           }
          ],
          "histogram2d": [
           {
            "colorbar": {
             "outlinewidth": 0,
             "ticks": ""
            },
            "colorscale": [
             [
              0,
              "#0d0887"
             ],
             [
              0.1111111111111111,
              "#46039f"
             ],
             [
              0.2222222222222222,
              "#7201a8"
             ],
             [
              0.3333333333333333,
              "#9c179e"
             ],
             [
              0.4444444444444444,
              "#bd3786"
             ],
             [
              0.5555555555555556,
              "#d8576b"
             ],
             [
              0.6666666666666666,
              "#ed7953"
             ],
             [
              0.7777777777777778,
              "#fb9f3a"
             ],
             [
              0.8888888888888888,
              "#fdca26"
             ],
             [
              1,
              "#f0f921"
             ]
            ],
            "type": "histogram2d"
           }
          ],
          "histogram2dcontour": [
           {
            "colorbar": {
             "outlinewidth": 0,
             "ticks": ""
            },
            "colorscale": [
             [
              0,
              "#0d0887"
             ],
             [
              0.1111111111111111,
              "#46039f"
             ],
             [
              0.2222222222222222,
              "#7201a8"
             ],
             [
              0.3333333333333333,
              "#9c179e"
             ],
             [
              0.4444444444444444,
              "#bd3786"
             ],
             [
              0.5555555555555556,
              "#d8576b"
             ],
             [
              0.6666666666666666,
              "#ed7953"
             ],
             [
              0.7777777777777778,
              "#fb9f3a"
             ],
             [
              0.8888888888888888,
              "#fdca26"
             ],
             [
              1,
              "#f0f921"
             ]
            ],
            "type": "histogram2dcontour"
           }
          ],
          "mesh3d": [
           {
            "colorbar": {
             "outlinewidth": 0,
             "ticks": ""
            },
            "type": "mesh3d"
           }
          ],
          "parcoords": [
           {
            "line": {
             "colorbar": {
              "outlinewidth": 0,
              "ticks": ""
             }
            },
            "type": "parcoords"
           }
          ],
          "pie": [
           {
            "automargin": true,
            "type": "pie"
           }
          ],
          "scatter": [
           {
            "fillpattern": {
             "fillmode": "overlay",
             "size": 10,
             "solidity": 0.2
            },
            "type": "scatter"
           }
          ],
          "scatter3d": [
           {
            "line": {
             "colorbar": {
              "outlinewidth": 0,
              "ticks": ""
             }
            },
            "marker": {
             "colorbar": {
              "outlinewidth": 0,
              "ticks": ""
             }
            },
            "type": "scatter3d"
           }
          ],
          "scattercarpet": [
           {
            "marker": {
             "colorbar": {
              "outlinewidth": 0,
              "ticks": ""
             }
            },
            "type": "scattercarpet"
           }
          ],
          "scattergeo": [
           {
            "marker": {
             "colorbar": {
              "outlinewidth": 0,
              "ticks": ""
             }
            },
            "type": "scattergeo"
           }
          ],
          "scattergl": [
           {
            "marker": {
             "colorbar": {
              "outlinewidth": 0,
              "ticks": ""
             }
            },
            "type": "scattergl"
           }
          ],
          "scattermapbox": [
           {
            "marker": {
             "colorbar": {
              "outlinewidth": 0,
              "ticks": ""
             }
            },
            "type": "scattermapbox"
           }
          ],
          "scatterpolar": [
           {
            "marker": {
             "colorbar": {
              "outlinewidth": 0,
              "ticks": ""
             }
            },
            "type": "scatterpolar"
           }
          ],
          "scatterpolargl": [
           {
            "marker": {
             "colorbar": {
              "outlinewidth": 0,
              "ticks": ""
             }
            },
            "type": "scatterpolargl"
           }
          ],
          "scatterternary": [
           {
            "marker": {
             "colorbar": {
              "outlinewidth": 0,
              "ticks": ""
             }
            },
            "type": "scatterternary"
           }
          ],
          "surface": [
           {
            "colorbar": {
             "outlinewidth": 0,
             "ticks": ""
            },
            "colorscale": [
             [
              0,
              "#0d0887"
             ],
             [
              0.1111111111111111,
              "#46039f"
             ],
             [
              0.2222222222222222,
              "#7201a8"
             ],
             [
              0.3333333333333333,
              "#9c179e"
             ],
             [
              0.4444444444444444,
              "#bd3786"
             ],
             [
              0.5555555555555556,
              "#d8576b"
             ],
             [
              0.6666666666666666,
              "#ed7953"
             ],
             [
              0.7777777777777778,
              "#fb9f3a"
             ],
             [
              0.8888888888888888,
              "#fdca26"
             ],
             [
              1,
              "#f0f921"
             ]
            ],
            "type": "surface"
           }
          ],
          "table": [
           {
            "cells": {
             "fill": {
              "color": "#EBF0F8"
             },
             "line": {
              "color": "white"
             }
            },
            "header": {
             "fill": {
              "color": "#C8D4E3"
             },
             "line": {
              "color": "white"
             }
            },
            "type": "table"
           }
          ]
         },
         "layout": {
          "annotationdefaults": {
           "arrowcolor": "#2a3f5f",
           "arrowhead": 0,
           "arrowwidth": 1
          },
          "autotypenumbers": "strict",
          "coloraxis": {
           "colorbar": {
            "outlinewidth": 0,
            "ticks": ""
           }
          },
          "colorscale": {
           "diverging": [
            [
             0,
             "#8e0152"
            ],
            [
             0.1,
             "#c51b7d"
            ],
            [
             0.2,
             "#de77ae"
            ],
            [
             0.3,
             "#f1b6da"
            ],
            [
             0.4,
             "#fde0ef"
            ],
            [
             0.5,
             "#f7f7f7"
            ],
            [
             0.6,
             "#e6f5d0"
            ],
            [
             0.7,
             "#b8e186"
            ],
            [
             0.8,
             "#7fbc41"
            ],
            [
             0.9,
             "#4d9221"
            ],
            [
             1,
             "#276419"
            ]
           ],
           "sequential": [
            [
             0,
             "#0d0887"
            ],
            [
             0.1111111111111111,
             "#46039f"
            ],
            [
             0.2222222222222222,
             "#7201a8"
            ],
            [
             0.3333333333333333,
             "#9c179e"
            ],
            [
             0.4444444444444444,
             "#bd3786"
            ],
            [
             0.5555555555555556,
             "#d8576b"
            ],
            [
             0.6666666666666666,
             "#ed7953"
            ],
            [
             0.7777777777777778,
             "#fb9f3a"
            ],
            [
             0.8888888888888888,
             "#fdca26"
            ],
            [
             1,
             "#f0f921"
            ]
           ],
           "sequentialminus": [
            [
             0,
             "#0d0887"
            ],
            [
             0.1111111111111111,
             "#46039f"
            ],
            [
             0.2222222222222222,
             "#7201a8"
            ],
            [
             0.3333333333333333,
             "#9c179e"
            ],
            [
             0.4444444444444444,
             "#bd3786"
            ],
            [
             0.5555555555555556,
             "#d8576b"
            ],
            [
             0.6666666666666666,
             "#ed7953"
            ],
            [
             0.7777777777777778,
             "#fb9f3a"
            ],
            [
             0.8888888888888888,
             "#fdca26"
            ],
            [
             1,
             "#f0f921"
            ]
           ]
          },
          "colorway": [
           "#636efa",
           "#EF553B",
           "#00cc96",
           "#ab63fa",
           "#FFA15A",
           "#19d3f3",
           "#FF6692",
           "#B6E880",
           "#FF97FF",
           "#FECB52"
          ],
          "font": {
           "color": "#2a3f5f"
          },
          "geo": {
           "bgcolor": "white",
           "lakecolor": "white",
           "landcolor": "#E5ECF6",
           "showlakes": true,
           "showland": true,
           "subunitcolor": "white"
          },
          "hoverlabel": {
           "align": "left"
          },
          "hovermode": "closest",
          "mapbox": {
           "style": "light"
          },
          "paper_bgcolor": "white",
          "plot_bgcolor": "#E5ECF6",
          "polar": {
           "angularaxis": {
            "gridcolor": "white",
            "linecolor": "white",
            "ticks": ""
           },
           "bgcolor": "#E5ECF6",
           "radialaxis": {
            "gridcolor": "white",
            "linecolor": "white",
            "ticks": ""
           }
          },
          "scene": {
           "xaxis": {
            "backgroundcolor": "#E5ECF6",
            "gridcolor": "white",
            "gridwidth": 2,
            "linecolor": "white",
            "showbackground": true,
            "ticks": "",
            "zerolinecolor": "white"
           },
           "yaxis": {
            "backgroundcolor": "#E5ECF6",
            "gridcolor": "white",
            "gridwidth": 2,
            "linecolor": "white",
            "showbackground": true,
            "ticks": "",
            "zerolinecolor": "white"
           },
           "zaxis": {
            "backgroundcolor": "#E5ECF6",
            "gridcolor": "white",
            "gridwidth": 2,
            "linecolor": "white",
            "showbackground": true,
            "ticks": "",
            "zerolinecolor": "white"
           }
          },
          "shapedefaults": {
           "line": {
            "color": "#2a3f5f"
           }
          },
          "ternary": {
           "aaxis": {
            "gridcolor": "white",
            "linecolor": "white",
            "ticks": ""
           },
           "baxis": {
            "gridcolor": "white",
            "linecolor": "white",
            "ticks": ""
           },
           "bgcolor": "#E5ECF6",
           "caxis": {
            "gridcolor": "white",
            "linecolor": "white",
            "ticks": ""
           }
          },
          "title": {
           "x": 0.05
          },
          "xaxis": {
           "automargin": true,
           "gridcolor": "white",
           "linecolor": "white",
           "ticks": "",
           "title": {
            "standoff": 15
           },
           "zerolinecolor": "white",
           "zerolinewidth": 2
          },
          "yaxis": {
           "automargin": true,
           "gridcolor": "white",
           "linecolor": "white",
           "ticks": "",
           "title": {
            "standoff": 15
           },
           "zerolinecolor": "white",
           "zerolinewidth": 2
          }
         }
        },
        "title": {
         "text": "Chow Group Closure Validation"
        },
        "xaxis": {
         "title": {
          "text": "X Coordinate"
         }
        },
        "yaxis": {
         "title": {
          "text": "Y Coordinate"
         }
        }
       }
      },
      "text/html": [
       "<div>                            <div id=\"0dae2acc-21a7-486a-9318-a20be23ea6fa\" class=\"plotly-graph-div\" style=\"height:525px; width:100%;\"></div>            <script type=\"text/javascript\">                require([\"plotly\"], function(Plotly) {                    window.PLOTLYENV=window.PLOTLYENV || {};                                    if (document.getElementById(\"0dae2acc-21a7-486a-9318-a20be23ea6fa\")) {                    Plotly.newPlot(                        \"0dae2acc-21a7-486a-9318-a20be23ea6fa\",                        [{\"mode\":\"markers+text\",\"text\":[\"P1\",\"P2\",\"P3\",\"P4\",\"P5\",\"P6\",\"P7\",\"P8\",\"P9\",\"P10\",\"P11\",\"P12\",\"P13\",\"P14\",\"P15\",\"P16\",\"P17\",\"P18\",\"P19\",\"P20\",\"P21\",\"P22\",\"P23\",\"P24\",\"P25\",\"P26\",\"P27\",\"P28\",\"P29\",\"P30\",\"P31\",\"P32\",\"P33\",\"P34\",\"P35\",\"P36\",\"P37\",\"P38\",\"P39\",\"P40\",\"P41\",\"P42\",\"P43\",\"P44\",\"P45\",\"P46\",\"P47\",\"P48\",\"P49\",\"P50\",\"P51\",\"P52\",\"P53\",\"P54\",\"P55\",\"P56\",\"P57\",\"P58\",\"P59\",\"P60\",\"P61\",\"P62\",\"P63\",\"P64\",\"P65\",\"P66\",\"P67\",\"P68\",\"P69\",\"P70\",\"P71\",\"P72\",\"P73\",\"P74\",\"P75\",\"P76\",\"P77\",\"P78\",\"P79\",\"P80\",\"P81\",\"P82\",\"P83\",\"P84\",\"P85\",\"P86\",\"P87\",\"P88\",\"P89\",\"P90\",\"P91\",\"P92\",\"P93\",\"P94\",\"P95\",\"P96\",\"P97\",\"P98\",\"P99\",\"P100\"],\"textposition\":\"top center\",\"x\":[13.676044579237244,0.461669576789384,-0.2922800763993959,0.6517753370479004,8.239981246010139,1.6677375332840825,0.3571374384766576,29.1132628099654,-0.10588363989599733,3.581752214284341,0.838325204820541,2.3215078270819762,-0.8482549976956049,1.2089024955291987,-1.0960107802973154,0.44289472970745886,-2.794928760005064,6.445058491215729,-2.513205255420182,-5.609704024067143,1.022137575760282,0.47453332510252005,-1.2115420946730995,-0.1519472918801013,0.9051868014223918,-0.7947075616287183,-1.6003202080593715,-0.3234800191469755,0.6820925312165442,-0.01668603438387339,-0.20693867285765236,0.559396997351782,-0.3818620883313818,0.12031761463693462,-3.8658890585764287,-0.727690435064791,30.034741646454453,-0.29027051142848714,-0.3043239416519363,-7.075345213667312,-1.7880404297838348,18.701652635083587,13.613159845966262,8.077785639899254,57.801114857900785,-1.8994107202602142,0.004451751273717858,-6.649115021577808,0.8871659530369512,-0.16559413690790395,-1.6523080057855326,-1.571598417024166,0.8053512638438614,-23.638989008264833,0.35407241789762733,-1.5272054364156389,-4.324773355413946,-3.3817506994308193,-0.9754389175432254,-0.22871224730615797,0.48199540129703955,0.3949845179635991,0.9317929535604321,0.5181736933902082,-1.2417716737759008,-0.37350838129142505,-0.40289902586943915,-1.1709640991661643,1.6667504926449108,0.3455062434917047,-0.05155482545284922,-1.9820379374978059,-0.6753020449690034,1.2592709054937643,1.1591558650775349,-0.2714935979890031,2.7792990931989348,4.61869992079662,2.1099121346469887,-5.507483192226016,1.5325596436903546,-3.5261190651058976,-0.5562097863766444,-0.6209829573319846,1.197686888246001,-0.16962983266057635,1.0423270085173963,0.23193563059595484,-4.309376977299859,0.5736703907883716,2.5283428496131592,12.340576850423684,1.2302727748171463,0.3031554405014572,0.49715716253085024,-2.4687388268716184,0.6308882212731147,-1.410898943133629,-0.09435369481910771,-4.445129843375957],\"y\":[81.22152234998767,-2.3446356193570272,5.0645554171049225,10.673884839345929,-51.29792898778415,-10.541419724759361,7.571331143169261,178.91476857219465,-3.355629266276109,-24.133441921479097,3.843453408459069,-3.917423489231137,-2.6902809029004295,-7.795926169279368,-4.672515865704279,-5.043772859327653,5.620501536554198,0.9659555040446444,8.528484157508773,42.901359224264226,1.125214511177795,-0.12317127465889488,2.360951609134938,-1.8544694348064779,2.231516353577484,11.197042113371747,-5.032770749065779,5.9180130222959235,-1.2546410384454862,0.334857460396653,4.887483873096883,-4.157688618134706,-8.287750838196732,5.7233085834554265,20.448128739709993,4.519826091700559,-156.74629974624693,6.316148561226623,6.262908671153834,25.008605953175508,-5.929971223599995,112.57560627975029,-21.120657368356,40.346606296906245,433.8711313908583,6.361289914042322,-1.2954723508605746,-21.013816407119833,3.5785328561751353,3.808198179491054,3.0689689389958694,-14.619268252645156,2.6182244425541823,45.33128381989974,-8.401011301244353,-6.417009095240042,-20.282344360735664,-36.5470130531089,5.2511645498313815,-0.6562993218136195,5.356079287552581,2.6735009624452775,2.274061703834593,2.6822616344594605,5.927710898796011,-1.1812175438182826,5.715894758512273,6.317786890214727,-3.7614915464552237,3.9536462863709865,2.700678421522143,-9.518389198606988,4.344835354265436,4.914823715347262,-15.100654595678865,-0.2846392256231245,1.543300516349614,16.789535812300606,10.685832794797196,-28.990558844720994,-7.777462132945607,3.242686918990075,5.54850480135237,-0.6054256176202537,-7.573433952534788,3.7873371641129507,-3.58731466983259,-5.0934634838856585,39.78727697458314,5.038934629516158,-16.644801521796502,-52.36193557790799,2.2633532209827374,3.2542670877974715,-2.284336647383655,-8.113053427893451,-11.848992102881862,-1.8884891392518712,4.116695174099635,29.14305090560723],\"type\":\"scatter\"}],                        {\"template\":{\"data\":{\"histogram2dcontour\":[{\"type\":\"histogram2dcontour\",\"colorbar\":{\"outlinewidth\":0,\"ticks\":\"\"},\"colorscale\":[[0.0,\"#0d0887\"],[0.1111111111111111,\"#46039f\"],[0.2222222222222222,\"#7201a8\"],[0.3333333333333333,\"#9c179e\"],[0.4444444444444444,\"#bd3786\"],[0.5555555555555556,\"#d8576b\"],[0.6666666666666666,\"#ed7953\"],[0.7777777777777778,\"#fb9f3a\"],[0.8888888888888888,\"#fdca26\"],[1.0,\"#f0f921\"]]}],\"choropleth\":[{\"type\":\"choropleth\",\"colorbar\":{\"outlinewidth\":0,\"ticks\":\"\"}}],\"histogram2d\":[{\"type\":\"histogram2d\",\"colorbar\":{\"outlinewidth\":0,\"ticks\":\"\"},\"colorscale\":[[0.0,\"#0d0887\"],[0.1111111111111111,\"#46039f\"],[0.2222222222222222,\"#7201a8\"],[0.3333333333333333,\"#9c179e\"],[0.4444444444444444,\"#bd3786\"],[0.5555555555555556,\"#d8576b\"],[0.6666666666666666,\"#ed7953\"],[0.7777777777777778,\"#fb9f3a\"],[0.8888888888888888,\"#fdca26\"],[1.0,\"#f0f921\"]]}],\"heatmap\":[{\"type\":\"heatmap\",\"colorbar\":{\"outlinewidth\":0,\"ticks\":\"\"},\"colorscale\":[[0.0,\"#0d0887\"],[0.1111111111111111,\"#46039f\"],[0.2222222222222222,\"#7201a8\"],[0.3333333333333333,\"#9c179e\"],[0.4444444444444444,\"#bd3786\"],[0.5555555555555556,\"#d8576b\"],[0.6666666666666666,\"#ed7953\"],[0.7777777777777778,\"#fb9f3a\"],[0.8888888888888888,\"#fdca26\"],[1.0,\"#f0f921\"]]}],\"heatmapgl\":[{\"type\":\"heatmapgl\",\"colorbar\":{\"outlinewidth\":0,\"ticks\":\"\"},\"colorscale\":[[0.0,\"#0d0887\"],[0.1111111111111111,\"#46039f\"],[0.2222222222222222,\"#7201a8\"],[0.3333333333333333,\"#9c179e\"],[0.4444444444444444,\"#bd3786\"],[0.5555555555555556,\"#d8576b\"],[0.6666666666666666,\"#ed7953\"],[0.7777777777777778,\"#fb9f3a\"],[0.8888888888888888,\"#fdca26\"],[1.0,\"#f0f921\"]]}],\"contourcarpet\":[{\"type\":\"contourcarpet\",\"colorbar\":{\"outlinewidth\":0,\"ticks\":\"\"}}],\"contour\":[{\"type\":\"contour\",\"colorbar\":{\"outlinewidth\":0,\"ticks\":\"\"},\"colorscale\":[[0.0,\"#0d0887\"],[0.1111111111111111,\"#46039f\"],[0.2222222222222222,\"#7201a8\"],[0.3333333333333333,\"#9c179e\"],[0.4444444444444444,\"#bd3786\"],[0.5555555555555556,\"#d8576b\"],[0.6666666666666666,\"#ed7953\"],[0.7777777777777778,\"#fb9f3a\"],[0.8888888888888888,\"#fdca26\"],[1.0,\"#f0f921\"]]}],\"surface\":[{\"type\":\"surface\",\"colorbar\":{\"outlinewidth\":0,\"ticks\":\"\"},\"colorscale\":[[0.0,\"#0d0887\"],[0.1111111111111111,\"#46039f\"],[0.2222222222222222,\"#7201a8\"],[0.3333333333333333,\"#9c179e\"],[0.4444444444444444,\"#bd3786\"],[0.5555555555555556,\"#d8576b\"],[0.6666666666666666,\"#ed7953\"],[0.7777777777777778,\"#fb9f3a\"],[0.8888888888888888,\"#fdca26\"],[1.0,\"#f0f921\"]]}],\"mesh3d\":[{\"type\":\"mesh3d\",\"colorbar\":{\"outlinewidth\":0,\"ticks\":\"\"}}],\"scatter\":[{\"fillpattern\":{\"fillmode\":\"overlay\",\"size\":10,\"solidity\":0.2},\"type\":\"scatter\"}],\"parcoords\":[{\"type\":\"parcoords\",\"line\":{\"colorbar\":{\"outlinewidth\":0,\"ticks\":\"\"}}}],\"scatterpolargl\":[{\"type\":\"scatterpolargl\",\"marker\":{\"colorbar\":{\"outlinewidth\":0,\"ticks\":\"\"}}}],\"bar\":[{\"error_x\":{\"color\":\"#2a3f5f\"},\"error_y\":{\"color\":\"#2a3f5f\"},\"marker\":{\"line\":{\"color\":\"#E5ECF6\",\"width\":0.5},\"pattern\":{\"fillmode\":\"overlay\",\"size\":10,\"solidity\":0.2}},\"type\":\"bar\"}],\"scattergeo\":[{\"type\":\"scattergeo\",\"marker\":{\"colorbar\":{\"outlinewidth\":0,\"ticks\":\"\"}}}],\"scatterpolar\":[{\"type\":\"scatterpolar\",\"marker\":{\"colorbar\":{\"outlinewidth\":0,\"ticks\":\"\"}}}],\"histogram\":[{\"marker\":{\"pattern\":{\"fillmode\":\"overlay\",\"size\":10,\"solidity\":0.2}},\"type\":\"histogram\"}],\"scattergl\":[{\"type\":\"scattergl\",\"marker\":{\"colorbar\":{\"outlinewidth\":0,\"ticks\":\"\"}}}],\"scatter3d\":[{\"type\":\"scatter3d\",\"line\":{\"colorbar\":{\"outlinewidth\":0,\"ticks\":\"\"}},\"marker\":{\"colorbar\":{\"outlinewidth\":0,\"ticks\":\"\"}}}],\"scattermapbox\":[{\"type\":\"scattermapbox\",\"marker\":{\"colorbar\":{\"outlinewidth\":0,\"ticks\":\"\"}}}],\"scatterternary\":[{\"type\":\"scatterternary\",\"marker\":{\"colorbar\":{\"outlinewidth\":0,\"ticks\":\"\"}}}],\"scattercarpet\":[{\"type\":\"scattercarpet\",\"marker\":{\"colorbar\":{\"outlinewidth\":0,\"ticks\":\"\"}}}],\"carpet\":[{\"aaxis\":{\"endlinecolor\":\"#2a3f5f\",\"gridcolor\":\"white\",\"linecolor\":\"white\",\"minorgridcolor\":\"white\",\"startlinecolor\":\"#2a3f5f\"},\"baxis\":{\"endlinecolor\":\"#2a3f5f\",\"gridcolor\":\"white\",\"linecolor\":\"white\",\"minorgridcolor\":\"white\",\"startlinecolor\":\"#2a3f5f\"},\"type\":\"carpet\"}],\"table\":[{\"cells\":{\"fill\":{\"color\":\"#EBF0F8\"},\"line\":{\"color\":\"white\"}},\"header\":{\"fill\":{\"color\":\"#C8D4E3\"},\"line\":{\"color\":\"white\"}},\"type\":\"table\"}],\"barpolar\":[{\"marker\":{\"line\":{\"color\":\"#E5ECF6\",\"width\":0.5},\"pattern\":{\"fillmode\":\"overlay\",\"size\":10,\"solidity\":0.2}},\"type\":\"barpolar\"}],\"pie\":[{\"automargin\":true,\"type\":\"pie\"}]},\"layout\":{\"autotypenumbers\":\"strict\",\"colorway\":[\"#636efa\",\"#EF553B\",\"#00cc96\",\"#ab63fa\",\"#FFA15A\",\"#19d3f3\",\"#FF6692\",\"#B6E880\",\"#FF97FF\",\"#FECB52\"],\"font\":{\"color\":\"#2a3f5f\"},\"hovermode\":\"closest\",\"hoverlabel\":{\"align\":\"left\"},\"paper_bgcolor\":\"white\",\"plot_bgcolor\":\"#E5ECF6\",\"polar\":{\"bgcolor\":\"#E5ECF6\",\"angularaxis\":{\"gridcolor\":\"white\",\"linecolor\":\"white\",\"ticks\":\"\"},\"radialaxis\":{\"gridcolor\":\"white\",\"linecolor\":\"white\",\"ticks\":\"\"}},\"ternary\":{\"bgcolor\":\"#E5ECF6\",\"aaxis\":{\"gridcolor\":\"white\",\"linecolor\":\"white\",\"ticks\":\"\"},\"baxis\":{\"gridcolor\":\"white\",\"linecolor\":\"white\",\"ticks\":\"\"},\"caxis\":{\"gridcolor\":\"white\",\"linecolor\":\"white\",\"ticks\":\"\"}},\"coloraxis\":{\"colorbar\":{\"outlinewidth\":0,\"ticks\":\"\"}},\"colorscale\":{\"sequential\":[[0.0,\"#0d0887\"],[0.1111111111111111,\"#46039f\"],[0.2222222222222222,\"#7201a8\"],[0.3333333333333333,\"#9c179e\"],[0.4444444444444444,\"#bd3786\"],[0.5555555555555556,\"#d8576b\"],[0.6666666666666666,\"#ed7953\"],[0.7777777777777778,\"#fb9f3a\"],[0.8888888888888888,\"#fdca26\"],[1.0,\"#f0f921\"]],\"sequentialminus\":[[0.0,\"#0d0887\"],[0.1111111111111111,\"#46039f\"],[0.2222222222222222,\"#7201a8\"],[0.3333333333333333,\"#9c179e\"],[0.4444444444444444,\"#bd3786\"],[0.5555555555555556,\"#d8576b\"],[0.6666666666666666,\"#ed7953\"],[0.7777777777777778,\"#fb9f3a\"],[0.8888888888888888,\"#fdca26\"],[1.0,\"#f0f921\"]],\"diverging\":[[0,\"#8e0152\"],[0.1,\"#c51b7d\"],[0.2,\"#de77ae\"],[0.3,\"#f1b6da\"],[0.4,\"#fde0ef\"],[0.5,\"#f7f7f7\"],[0.6,\"#e6f5d0\"],[0.7,\"#b8e186\"],[0.8,\"#7fbc41\"],[0.9,\"#4d9221\"],[1,\"#276419\"]]},\"xaxis\":{\"gridcolor\":\"white\",\"linecolor\":\"white\",\"ticks\":\"\",\"title\":{\"standoff\":15},\"zerolinecolor\":\"white\",\"automargin\":true,\"zerolinewidth\":2},\"yaxis\":{\"gridcolor\":\"white\",\"linecolor\":\"white\",\"ticks\":\"\",\"title\":{\"standoff\":15},\"zerolinecolor\":\"white\",\"automargin\":true,\"zerolinewidth\":2},\"scene\":{\"xaxis\":{\"backgroundcolor\":\"#E5ECF6\",\"gridcolor\":\"white\",\"linecolor\":\"white\",\"showbackground\":true,\"ticks\":\"\",\"zerolinecolor\":\"white\",\"gridwidth\":2},\"yaxis\":{\"backgroundcolor\":\"#E5ECF6\",\"gridcolor\":\"white\",\"linecolor\":\"white\",\"showbackground\":true,\"ticks\":\"\",\"zerolinecolor\":\"white\",\"gridwidth\":2},\"zaxis\":{\"backgroundcolor\":\"#E5ECF6\",\"gridcolor\":\"white\",\"linecolor\":\"white\",\"showbackground\":true,\"ticks\":\"\",\"zerolinecolor\":\"white\",\"gridwidth\":2}},\"shapedefaults\":{\"line\":{\"color\":\"#2a3f5f\"}},\"annotationdefaults\":{\"arrowcolor\":\"#2a3f5f\",\"arrowhead\":0,\"arrowwidth\":1},\"geo\":{\"bgcolor\":\"white\",\"landcolor\":\"#E5ECF6\",\"subunitcolor\":\"white\",\"showland\":true,\"showlakes\":true,\"lakecolor\":\"white\"},\"title\":{\"x\":0.05},\"mapbox\":{\"style\":\"light\"}}},\"title\":{\"text\":\"Chow Group Closure Validation\"},\"xaxis\":{\"title\":{\"text\":\"X Coordinate\"}},\"yaxis\":{\"title\":{\"text\":\"Y Coordinate\"}},\"showlegend\":false},                        {\"responsive\": true}                    ).then(function(){\n",
       "                            \n",
       "var gd = document.getElementById('0dae2acc-21a7-486a-9318-a20be23ea6fa');\n",
       "var x = new MutationObserver(function (mutations, observer) {{\n",
       "        var display = window.getComputedStyle(gd).display;\n",
       "        if (!display || display === 'none') {{\n",
       "            console.log([gd, 'removed!']);\n",
       "            Plotly.purge(gd);\n",
       "            observer.disconnect();\n",
       "        }}\n",
       "}});\n",
       "\n",
       "// Listen for the removal of the full notebook cells\n",
       "var notebookContainer = gd.closest('#notebook-container');\n",
       "if (notebookContainer) {{\n",
       "    x.observe(notebookContainer, {childList: true});\n",
       "}}\n",
       "\n",
       "// Listen for the clearing of the current output cell\n",
       "var outputEl = gd.closest('.output');\n",
       "if (outputEl) {{\n",
       "    x.observe(outputEl, {childList: true});\n",
       "}}\n",
       "\n",
       "                        })                };                });            </script>        </div>"
      ]
     },
     "metadata": {},
     "output_type": "display_data"
    }
   ],
   "source": [
    "import numpy as np\n",
    "import random\n",
    "import plotly.graph_objs as go\n",
    "from plotly.subplots import make_subplots\n",
    "\n",
    "# Define an Algebraic Cycle (represented as a line for simplicity)\n",
    "class AlgebraicCycle:\n",
    "    def __init__(self, slope, intercept):\n",
    "        self.slope = slope\n",
    "        self.intercept = intercept\n",
    "    \n",
    "    def intersection(self, other):\n",
    "        \"\"\"Find the intersection point of two algebraic cycles (lines)\"\"\"\n",
    "        if self.slope == other.slope:\n",
    "            return None  # Parallel lines have no intersection\n",
    "        else:\n",
    "            x = (other.intercept - self.intercept) / (self.slope - other.slope)\n",
    "            y = self.slope * x + self.intercept\n",
    "            return (x, y)\n",
    "\n",
    "# Define Chow Group structure\n",
    "class ChowGroup:\n",
    "    def __init__(self):\n",
    "        self.elements = []\n",
    "    \n",
    "    def add_intersection(self, intersection):\n",
    "        if intersection:\n",
    "            self.elements.append(intersection)\n",
    "    \n",
    "    def __add__(self, other):\n",
    "        combined_group = ChowGroup()\n",
    "        combined_group.elements = self.elements + other.elements\n",
    "        return combined_group\n",
    "\n",
    "# Generate random intersections for Monte Carlo simulation\n",
    "def chow_group_simulation(num_trials):\n",
    "    intersections = []\n",
    "    for _ in range(num_trials):\n",
    "        slope1 = random.uniform(-10, 10)\n",
    "        intercept1 = random.uniform(-10, 10)\n",
    "        slope2 = random.uniform(-10, 10)\n",
    "        intercept2 = random.uniform(-10, 10)\n",
    "        \n",
    "        curve1 = AlgebraicCycle(slope=slope1, intercept=intercept1)\n",
    "        curve2 = AlgebraicCycle(slope=slope2, intercept=intercept2)\n",
    "        \n",
    "        intersection_point = curve1.intersection(curve2)\n",
    "        if intersection_point:\n",
    "            intersections.append(intersection_point)\n",
    "    return intersections\n",
    "\n",
    "# Plotting the closure validation using Plotly\n",
    "def plot_closure_validation(chow_group1, chow_group2):\n",
    "    combined_group = chow_group1 + chow_group2\n",
    "    x_coords = [p[0] for p in combined_group.elements]\n",
    "    y_coords = [p[1] for p in combined_group.elements]\n",
    "    labels = ['P' + str(i+1) for i in range(len(x_coords))]\n",
    "    \n",
    "    # Create the plot\n",
    "    fig = go.Figure()\n",
    "\n",
    "    # Scatter plot of points\n",
    "    scatter = go.Scatter(x=x_coords, y=y_coords, mode='markers+text', text=labels, textposition='top center')\n",
    "    \n",
    "    fig.add_trace(scatter)\n",
    "    \n",
    "    # Set title and axis labels\n",
    "    fig.update_layout(\n",
    "        title=\"Chow Group Closure Validation\",\n",
    "        xaxis_title=\"X Coordinate\",\n",
    "        yaxis_title=\"Y Coordinate\",\n",
    "        showlegend=False\n",
    "    )\n",
    "    \n",
    "    # Display the plot\n",
    "    fig.show()\n",
    "\n",
    "# Main: Simulate and Validate Closure\n",
    "if __name__ == \"__main__\":\n",
    "    # Run a Monte Carlo simulation to get intersections\n",
    "    num_trials = 100\n",
    "    intersections = chow_group_simulation(num_trials)\n",
    "    \n",
    "    # Create two Chow groups for closure validation\n",
    "    chow_group1 = ChowGroup()\n",
    "    chow_group2 = ChowGroup()\n",
    "    for i in range(num_trials // 2):\n",
    "        chow_group1.add_intersection(intersections[i])\n",
    "    for i in range(num_trials // 2, num_trials):\n",
    "        chow_group2.add_intersection(intersections[i])\n",
    "    \n",
    "    # Validate and plot Closure\n",
    "    plot_closure_validation(chow_group1, chow_group2)\n"
   ]
  },
  {
   "cell_type": "code",
   "execution_count": null,
   "id": "2d57c9f1",
   "metadata": {},
   "outputs": [],
   "source": []
  }
 ],
 "metadata": {
  "kernelspec": {
   "display_name": "Python 3",
   "language": "python",
   "name": "python3"
  },
  "language_info": {
   "codemirror_mode": {
    "name": "ipython",
    "version": 3
   },
   "file_extension": ".py",
   "mimetype": "text/x-python",
   "name": "python",
   "nbconvert_exporter": "python",
   "pygments_lexer": "ipython3",
   "version": "3.6.8"
  }
 },
 "nbformat": 4,
 "nbformat_minor": 5
}
